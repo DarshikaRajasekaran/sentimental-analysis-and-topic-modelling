{
 "cells": [
  {
   "cell_type": "code",
   "execution_count": 25,
   "metadata": {},
   "outputs": [
    {
     "name": "stderr",
     "output_type": "stream",
     "text": [
      "[nltk_data] Downloading package subjectivity to\n",
      "[nltk_data]     /Users/brettevans/nltk_data...\n",
      "[nltk_data]   Package subjectivity is already up-to-date!\n",
      "[nltk_data] Downloading package punkt to\n",
      "[nltk_data]     /Users/brettevans/nltk_data...\n",
      "[nltk_data]   Package punkt is already up-to-date!\n",
      "[nltk_data] Downloading package vader_lexicon to\n",
      "[nltk_data]     /Users/brettevans/nltk_data...\n",
      "[nltk_data]   Package vader_lexicon is already up-to-date!\n",
      "[nltk_data] Downloading package stopwords to\n",
      "[nltk_data]     /Users/brettevans/nltk_data...\n",
      "[nltk_data]   Package stopwords is already up-to-date!\n"
     ]
    }
   ],
   "source": [
    "# Importing and downloading all necessary packages that deals with \n",
    "# NLTK and VADER\n",
    "\n",
    "import pandas as pd\n",
    "import numpy as np\n",
    "import matplotlib.pyplot as plt\n",
    "import seaborn as sns\n",
    "sns.set_style('darkgrid')\n",
    "%matplotlib inline\n",
    "\n",
    "import nltk as nltk\n",
    "from nltk.corpus import stopwords\n",
    "\n",
    "import re, gensim\n",
    "\n",
    "from nltk.classify import NaiveBayesClassifier\n",
    "import nltk as nltk\n",
    "nltk.download('subjectivity')\n",
    "from nltk.corpus import subjectivity\n",
    "from nltk.sentiment import SentimentAnalyzer\n",
    "from nltk.sentiment.util import * \n",
    "\n",
    "from nltk.sentiment.vader import SentimentIntensityAnalyzer\n",
    "nltk.download('punkt')\n",
    "from nltk import tokenize\n",
    "nltk.download('vader_lexicon')\n",
    "nltk.download(\"stopwords\")\n",
    "from vaderSentiment.vaderSentiment import SentimentIntensityAnalyzer\n",
    "\n",
    "from nltk import tokenize\n",
    "analyzer = SentimentIntensityAnalyzer()\n",
    "\n",
    "from nltk.corpus import stopwords\n",
    "\n",
    "from collections import Counter\n",
    "import math\n",
    "import html\n",
    "import sklearn\n",
    "import sklearn.metrics as metrics\n",
    "from sklearn.metrics import mutual_info_score\n",
    "from sklearn.feature_extraction.text import CountVectorizer, TfidfVectorizer, ENGLISH_STOP_WORDS\n",
    "from pprint import pprint\n"
   ]
  },
  {
   "cell_type": "code",
   "execution_count": 6,
   "metadata": {},
   "outputs": [
    {
     "data": {
      "text/html": [
       "<div>\n",
       "<style scoped>\n",
       "    .dataframe tbody tr th:only-of-type {\n",
       "        vertical-align: middle;\n",
       "    }\n",
       "\n",
       "    .dataframe tbody tr th {\n",
       "        vertical-align: top;\n",
       "    }\n",
       "\n",
       "    .dataframe thead th {\n",
       "        text-align: right;\n",
       "    }\n",
       "</style>\n",
       "<table border=\"1\" class=\"dataframe\">\n",
       "  <thead>\n",
       "    <tr style=\"text-align: right;\">\n",
       "      <th></th>\n",
       "      <th>Review</th>\n",
       "      <th>Review_Date</th>\n",
       "      <th>Review_Rating</th>\n",
       "    </tr>\n",
       "  </thead>\n",
       "  <tbody>\n",
       "    <tr>\n",
       "      <th>0</th>\n",
       "      <td>We have spent a couple of weeks touring round ...</td>\n",
       "      <td>November 24, 2018</td>\n",
       "      <td>5</td>\n",
       "    </tr>\n",
       "    <tr>\n",
       "      <th>1</th>\n",
       "      <td>In town for Ed Sheeran concert. Room very good...</td>\n",
       "      <td>November 17, 2018</td>\n",
       "      <td>4</td>\n",
       "    </tr>\n",
       "    <tr>\n",
       "      <th>2</th>\n",
       "      <td>Our room was large and clean with an excellent...</td>\n",
       "      <td>November 12, 2018</td>\n",
       "      <td>5</td>\n",
       "    </tr>\n",
       "    <tr>\n",
       "      <th>3</th>\n",
       "      <td>The hotel is located in a very busy street of ...</td>\n",
       "      <td>November 7, 2018</td>\n",
       "      <td>4</td>\n",
       "    </tr>\n",
       "    <tr>\n",
       "      <th>4</th>\n",
       "      <td>Wingate is great for several reasons. I partic...</td>\n",
       "      <td>November 6, 2018</td>\n",
       "      <td>5</td>\n",
       "    </tr>\n",
       "  </tbody>\n",
       "</table>\n",
       "</div>"
      ],
      "text/plain": [
       "                                              Review        Review_Date  \\\n",
       "0  We have spent a couple of weeks touring round ...  November 24, 2018   \n",
       "1  In town for Ed Sheeran concert. Room very good...  November 17, 2018   \n",
       "2  Our room was large and clean with an excellent...  November 12, 2018   \n",
       "3  The hotel is located in a very busy street of ...   November 7, 2018   \n",
       "4  Wingate is great for several reasons. I partic...   November 6, 2018   \n",
       "\n",
       "   Review_Rating  \n",
       "0              5  \n",
       "1              4  \n",
       "2              5  \n",
       "3              4  \n",
       "4              5  "
      ]
     },
     "execution_count": 6,
     "metadata": {},
     "output_type": "execute_result"
    }
   ],
   "source": [
    "# We use the Pandas library to read the contents of the scraped data\n",
    "df = pd.read_csv('Wingate_by_Wyndham_Atlanta_Buckhead-Atlanta_Georgia__en.csv', encoding='utf-8')\n",
    " \n",
    "# Now we remove duplicate rows (reviews)\n",
    "df.drop_duplicates(inplace=True)\n",
    "df.head(5)\n",
    "    "
   ]
  },
  {
   "cell_type": "code",
   "execution_count": 7,
   "metadata": {},
   "outputs": [
    {
     "name": "stdout",
     "output_type": "stream",
     "text": [
      "<class 'pandas.core.frame.DataFrame'>\n",
      "Int64Index: 2430 entries, 0 to 2429\n",
      "Data columns (total 3 columns):\n",
      "Review           2430 non-null object\n",
      "Review_Date      2430 non-null object\n",
      "Review_Rating    2430 non-null int64\n",
      "dtypes: int64(1), object(2)\n",
      "memory usage: 75.9+ KB\n"
     ]
    }
   ],
   "source": [
    "df.info()"
   ]
  },
  {
   "cell_type": "code",
   "execution_count": 8,
   "metadata": {},
   "outputs": [
    {
     "data": {
      "text/html": [
       "<div>\n",
       "<style scoped>\n",
       "    .dataframe tbody tr th:only-of-type {\n",
       "        vertical-align: middle;\n",
       "    }\n",
       "\n",
       "    .dataframe tbody tr th {\n",
       "        vertical-align: top;\n",
       "    }\n",
       "\n",
       "    .dataframe thead th {\n",
       "        text-align: right;\n",
       "    }\n",
       "</style>\n",
       "<table border=\"1\" class=\"dataframe\">\n",
       "  <thead>\n",
       "    <tr style=\"text-align: right;\">\n",
       "      <th></th>\n",
       "      <th>Review_Rating</th>\n",
       "    </tr>\n",
       "  </thead>\n",
       "  <tbody>\n",
       "    <tr>\n",
       "      <th>count</th>\n",
       "      <td>2430.000000</td>\n",
       "    </tr>\n",
       "    <tr>\n",
       "      <th>mean</th>\n",
       "      <td>4.564609</td>\n",
       "    </tr>\n",
       "    <tr>\n",
       "      <th>std</th>\n",
       "      <td>0.785143</td>\n",
       "    </tr>\n",
       "    <tr>\n",
       "      <th>min</th>\n",
       "      <td>1.000000</td>\n",
       "    </tr>\n",
       "    <tr>\n",
       "      <th>25%</th>\n",
       "      <td>4.000000</td>\n",
       "    </tr>\n",
       "    <tr>\n",
       "      <th>50%</th>\n",
       "      <td>5.000000</td>\n",
       "    </tr>\n",
       "    <tr>\n",
       "      <th>75%</th>\n",
       "      <td>5.000000</td>\n",
       "    </tr>\n",
       "    <tr>\n",
       "      <th>max</th>\n",
       "      <td>5.000000</td>\n",
       "    </tr>\n",
       "  </tbody>\n",
       "</table>\n",
       "</div>"
      ],
      "text/plain": [
       "       Review_Rating\n",
       "count    2430.000000\n",
       "mean        4.564609\n",
       "std         0.785143\n",
       "min         1.000000\n",
       "25%         4.000000\n",
       "50%         5.000000\n",
       "75%         5.000000\n",
       "max         5.000000"
      ]
     },
     "execution_count": 8,
     "metadata": {},
     "output_type": "execute_result"
    }
   ],
   "source": [
    "df.describe()"
   ]
  },
  {
   "cell_type": "code",
   "execution_count": 9,
   "metadata": {},
   "outputs": [
    {
     "data": {
      "text/html": [
       "<div>\n",
       "<style scoped>\n",
       "    .dataframe tbody tr th:only-of-type {\n",
       "        vertical-align: middle;\n",
       "    }\n",
       "\n",
       "    .dataframe tbody tr th {\n",
       "        vertical-align: top;\n",
       "    }\n",
       "\n",
       "    .dataframe thead th {\n",
       "        text-align: right;\n",
       "    }\n",
       "</style>\n",
       "<table border=\"1\" class=\"dataframe\">\n",
       "  <thead>\n",
       "    <tr style=\"text-align: right;\">\n",
       "      <th></th>\n",
       "      <th>Review</th>\n",
       "      <th>Review_Date</th>\n",
       "      <th>Review_Rating</th>\n",
       "      <th>Review_Length</th>\n",
       "    </tr>\n",
       "  </thead>\n",
       "  <tbody>\n",
       "    <tr>\n",
       "      <th>0</th>\n",
       "      <td>We have spent a couple of weeks touring round ...</td>\n",
       "      <td>November 24, 2018</td>\n",
       "      <td>5</td>\n",
       "      <td>617</td>\n",
       "    </tr>\n",
       "    <tr>\n",
       "      <th>1</th>\n",
       "      <td>In town for Ed Sheeran concert. Room very good...</td>\n",
       "      <td>November 17, 2018</td>\n",
       "      <td>4</td>\n",
       "      <td>308</td>\n",
       "    </tr>\n",
       "    <tr>\n",
       "      <th>2</th>\n",
       "      <td>Our room was large and clean with an excellent...</td>\n",
       "      <td>November 12, 2018</td>\n",
       "      <td>5</td>\n",
       "      <td>638</td>\n",
       "    </tr>\n",
       "    <tr>\n",
       "      <th>3</th>\n",
       "      <td>The hotel is located in a very busy street of ...</td>\n",
       "      <td>November 7, 2018</td>\n",
       "      <td>4</td>\n",
       "      <td>2174</td>\n",
       "    </tr>\n",
       "    <tr>\n",
       "      <th>4</th>\n",
       "      <td>Wingate is great for several reasons. I partic...</td>\n",
       "      <td>November 6, 2018</td>\n",
       "      <td>5</td>\n",
       "      <td>777</td>\n",
       "    </tr>\n",
       "  </tbody>\n",
       "</table>\n",
       "</div>"
      ],
      "text/plain": [
       "                                              Review        Review_Date  \\\n",
       "0  We have spent a couple of weeks touring round ...  November 24, 2018   \n",
       "1  In town for Ed Sheeran concert. Room very good...  November 17, 2018   \n",
       "2  Our room was large and clean with an excellent...  November 12, 2018   \n",
       "3  The hotel is located in a very busy street of ...   November 7, 2018   \n",
       "4  Wingate is great for several reasons. I partic...   November 6, 2018   \n",
       "\n",
       "   Review_Rating  Review_Length  \n",
       "0              5            617  \n",
       "1              4            308  \n",
       "2              5            638  \n",
       "3              4           2174  \n",
       "4              5            777  "
      ]
     },
     "execution_count": 9,
     "metadata": {},
     "output_type": "execute_result"
    }
   ],
   "source": [
    "# To get the length of each review\n",
    "df['Review_Length'] = df['Review'].apply(len)\n",
    "df.head()"
   ]
  },
  {
   "cell_type": "code",
   "execution_count": 21,
   "metadata": {},
   "outputs": [
    {
     "data": {
      "image/png": "[encoded data removed]",
      "text/plain": [
       "<Figure size 1080x216 with 5 Axes>"
      ]
     },
     "metadata": {},
     "output_type": "display_data"
    }
   ],
   "source": [
    "# Checking the relationship between Review Rating and length of the text\n",
    "g = sns.FacetGrid(data=df, col='Review_Rating')\n",
    "g.map(plt.hist, 'Review_Length', bins=10)\n",
    "plt.show()"
   ]
  },
  {
   "cell_type": "code",
   "execution_count": 11,
   "metadata": {},
   "outputs": [
    {
     "data": {
      "image/png": "[encoded data removed]",
      "text/plain": [
       "<Figure size 432x288 with 1 Axes>"
      ]
     },
     "metadata": {},
     "output_type": "display_data"
    }
   ],
   "source": [
    "# Box Plot of the text length for each rating\n",
    "sns.boxplot(x='Review_Rating', y='Review_Length', data=df)\n",
    "plt.show()"
   ]
  },
  {
   "cell_type": "markdown",
   "metadata": {},
   "source": [
    "From the above box plot, we notice that rating 1 has the longest reviews followed by reviews with a rating of 2 and then 3. Ratings 4 and 5 have similar lengths. \n",
    "We also notice that there are a lot of outliers in reviews with 3, 4 and 5 rating. "
   ]
  },
  {
   "cell_type": "code",
   "execution_count": 12,
   "metadata": {},
   "outputs": [],
   "source": [
    "# Instantiate the sentiment Analyzer\n",
    "sid = SentimentIntensityAnalyzer()"
   ]
  },
  {
   "cell_type": "code",
   "execution_count": 13,
   "metadata": {},
   "outputs": [
    {
     "name": "stdout",
     "output_type": "stream",
     "text": [
      "processed 1 Reviews\n",
      "processed 1001 Reviews\n",
      "processed 2001 Reviews\n",
      "*******Completed*******\n"
     ]
    }
   ],
   "source": [
    "vader_score = []\n",
    "#Assign Vader score to individual review using Vader compound score\n",
    "for rownum, Review in enumerate(df['Review']):\n",
    "    scores = sid.polarity_scores(Review)\n",
    "    vader_score.append(scores['compound'])\n",
    "    if (rownum % 1000 == 0):\n",
    "            print(\"processed %d Reviews\" % (rownum+1))\n",
    "print(\"*******Completed*******\")"
   ]
  },
  {
   "cell_type": "code",
   "execution_count": 17,
   "metadata": {},
   "outputs": [
    {
     "data": {
      "text/html": [
       "<div>\n",
       "<style scoped>\n",
       "    .dataframe tbody tr th:only-of-type {\n",
       "        vertical-align: middle;\n",
       "    }\n",
       "\n",
       "    .dataframe tbody tr th {\n",
       "        vertical-align: top;\n",
       "    }\n",
       "\n",
       "    .dataframe thead th {\n",
       "        text-align: right;\n",
       "    }\n",
       "</style>\n",
       "<table border=\"1\" class=\"dataframe\">\n",
       "  <thead>\n",
       "    <tr style=\"text-align: right;\">\n",
       "      <th></th>\n",
       "      <th>Review</th>\n",
       "      <th>Review_Date</th>\n",
       "      <th>Review_Rating</th>\n",
       "      <th>Review_Length</th>\n",
       "      <th>Vader_Score</th>\n",
       "    </tr>\n",
       "  </thead>\n",
       "  <tbody>\n",
       "    <tr>\n",
       "      <th>0</th>\n",
       "      <td>We have spent a couple of weeks touring round ...</td>\n",
       "      <td>November 24, 2018</td>\n",
       "      <td>5</td>\n",
       "      <td>617</td>\n",
       "      <td>0.9911</td>\n",
       "    </tr>\n",
       "    <tr>\n",
       "      <th>1</th>\n",
       "      <td>In town for Ed Sheeran concert. Room very good...</td>\n",
       "      <td>November 17, 2018</td>\n",
       "      <td>4</td>\n",
       "      <td>308</td>\n",
       "      <td>0.9780</td>\n",
       "    </tr>\n",
       "    <tr>\n",
       "      <th>2</th>\n",
       "      <td>Our room was large and clean with an excellent...</td>\n",
       "      <td>November 12, 2018</td>\n",
       "      <td>5</td>\n",
       "      <td>638</td>\n",
       "      <td>0.9721</td>\n",
       "    </tr>\n",
       "    <tr>\n",
       "      <th>3</th>\n",
       "      <td>The hotel is located in a very busy street of ...</td>\n",
       "      <td>November 7, 2018</td>\n",
       "      <td>4</td>\n",
       "      <td>2174</td>\n",
       "      <td>0.9877</td>\n",
       "    </tr>\n",
       "    <tr>\n",
       "      <th>4</th>\n",
       "      <td>Wingate is great for several reasons. I partic...</td>\n",
       "      <td>November 6, 2018</td>\n",
       "      <td>5</td>\n",
       "      <td>777</td>\n",
       "      <td>0.9699</td>\n",
       "    </tr>\n",
       "    <tr>\n",
       "      <th>5</th>\n",
       "      <td>I found this hotel on Hotelstonight.com at the...</td>\n",
       "      <td>October 29, 2018</td>\n",
       "      <td>4</td>\n",
       "      <td>484</td>\n",
       "      <td>0.9422</td>\n",
       "    </tr>\n",
       "    <tr>\n",
       "      <th>6</th>\n",
       "      <td>The hotel is on a main road, which is good for...</td>\n",
       "      <td>October 26, 2018</td>\n",
       "      <td>4</td>\n",
       "      <td>999</td>\n",
       "      <td>0.9772</td>\n",
       "    </tr>\n",
       "    <tr>\n",
       "      <th>7</th>\n",
       "      <td>I wanted to pass along some information from m...</td>\n",
       "      <td>October 25, 2018</td>\n",
       "      <td>1</td>\n",
       "      <td>731</td>\n",
       "      <td>-0.6608</td>\n",
       "    </tr>\n",
       "    <tr>\n",
       "      <th>8</th>\n",
       "      <td>Marquis Davis was the \"Host Extraodinaire\" for...</td>\n",
       "      <td>October 17, 2018</td>\n",
       "      <td>5</td>\n",
       "      <td>329</td>\n",
       "      <td>0.7592</td>\n",
       "    </tr>\n",
       "    <tr>\n",
       "      <th>9</th>\n",
       "      <td>Coming From New York I found the southern hosp...</td>\n",
       "      <td>October 17, 2018</td>\n",
       "      <td>4</td>\n",
       "      <td>171</td>\n",
       "      <td>0.8980</td>\n",
       "    </tr>\n",
       "  </tbody>\n",
       "</table>\n",
       "</div>"
      ],
      "text/plain": [
       "                                              Review        Review_Date  \\\n",
       "0  We have spent a couple of weeks touring round ...  November 24, 2018   \n",
       "1  In town for Ed Sheeran concert. Room very good...  November 17, 2018   \n",
       "2  Our room was large and clean with an excellent...  November 12, 2018   \n",
       "3  The hotel is located in a very busy street of ...   November 7, 2018   \n",
       "4  Wingate is great for several reasons. I partic...   November 6, 2018   \n",
       "5  I found this hotel on Hotelstonight.com at the...   October 29, 2018   \n",
       "6  The hotel is on a main road, which is good for...   October 26, 2018   \n",
       "7  I wanted to pass along some information from m...   October 25, 2018   \n",
       "8  Marquis Davis was the \"Host Extraodinaire\" for...   October 17, 2018   \n",
       "9  Coming From New York I found the southern hosp...   October 17, 2018   \n",
       "\n",
       "   Review_Rating  Review_Length  Vader_Score  \n",
       "0              5            617       0.9911  \n",
       "1              4            308       0.9780  \n",
       "2              5            638       0.9721  \n",
       "3              4           2174       0.9877  \n",
       "4              5            777       0.9699  \n",
       "5              4            484       0.9422  \n",
       "6              4            999       0.9772  \n",
       "7              1            731      -0.6608  \n",
       "8              5            329       0.7592  \n",
       "9              4            171       0.8980  "
      ]
     },
     "execution_count": 17,
     "metadata": {},
     "output_type": "execute_result"
    }
   ],
   "source": [
    "# Assign vader scores in the original df\n",
    "hotelDf = df.assign(Vader_Score = vader_score)\n",
    "hotelDf.head(10)"
   ]
  },
  {
   "cell_type": "code",
   "execution_count": 15,
   "metadata": {},
   "outputs": [],
   "source": [
    "'''\n",
    "Checking if word frequency in review data can tell us how the customers felt \n",
    "about their hotel stay.\n",
    "\n",
    "Getting the most frequently observed words from the positive reviews and negative\n",
    "reviews, to see if there is any difference.\n",
    "'''\n",
    "def get_topk_ngram(df, ngram_range=(1,1), k=None, stopwords=True, with_count=False):\n",
    "    '''\n",
    "    Extract the most frequently occurred words in countvector\n",
    "    '''\n",
    "    if stopwords:\n",
    "        temp = []\n",
    "        for rev in df.Review.unique():\n",
    "            for token in rev.split():\n",
    "                if len(token) > 1:\n",
    "                    temp.append(token)\n",
    "        my_stop_words = ENGLISH_STOP_WORDS.union(temp)\n",
    "        vectorizer = CountVectorizer(ngram_range=ngram_range, \n",
    "                                     stop_words=my_stop_words, max_features=500)\n",
    "        \n",
    "    else:\n",
    "        vectorizer = CountVectorizer(ngram_range=ngram_range, stop_words=None, max_features=k)\n",
    "        \n",
    "    countvector = vectorizer.fit_transform(df['Review'])\n",
    "\n",
    "    # Get topk occurred ngrams\n",
    "    topk_words = []\n",
    "    sortedindices = countvector.toarray().sum(axis=0).argsort()[::-1][:k]\n",
    "    counts = countvector.toarray().sum(axis=0)\n",
    "    \n",
    "    for i in sortedindices:\n",
    "        word = vectorizer.get_feature_names()[i]\n",
    "        \n",
    "        if with_count:\n",
    "            count = counts[i]\n",
    "            topk_words.append((word, count))\n",
    "        else:\n",
    "            topk_words.append(word)\n",
    "            \n",
    "    return topk_words"
   ]
  },
  {
   "cell_type": "code",
   "execution_count": 27,
   "metadata": {
    "scrolled": true
   },
   "outputs": [
    {
     "name": "stdout",
     "output_type": "stream",
     "text": [
      "The most frequently occured top 10 words in positive reviews\n",
      "      Word  Count\n",
      "0  anthony    105\n",
      "1  monique    103\n",
      "2       ve    101\n",
      "3     didn     90\n",
      "4      don     79\n",
      "5    chris     72\n",
      "6    craig     65\n",
      "7    marie     56\n",
      "8   couldn     51\n",
      "9       ll     39\n",
      "\n",
      "The most frequently occured top 10 words in negative reviews\n",
      "           Word  Count\n",
      "0          didn     13\n",
      "1          wasn      7\n",
      "2            ve      6\n",
      "3       monique      4\n",
      "4   tripadvisor      4\n",
      "5  housekeeping      4\n",
      "6       etienne      4\n",
      "7            00      4\n",
      "8      saturday      3\n",
      "9        wouldn      3\n",
      "\n",
      "The most frequently occured top 10 bigrams in positive reviews\n",
      "              Word  Count\n",
      "0            wi fi     27\n",
      "1    anthony hines     15\n",
      "2      hines tecoy     15\n",
      "3    monique chris     11\n",
      "4        ben craig      9\n",
      "5    chris monique      9\n",
      "6    monique marie      9\n",
      "7            ve ve      8\n",
      "8  anthony anthony      7\n",
      "9     ritz carlton      7\n",
      "\n",
      "The most frequently occured top 10 bigrams in negative reviews\n",
      "                Word  Count\n",
      "0    ferris benjamin      2\n",
      "1              ve ve      2\n",
      "2     didn personnel      1\n",
      "3    deficiency didn      1\n",
      "4  delightful polite      1\n",
      "5            didn 00      1\n",
      "6           didn 8am      1\n",
      "7         didn apart      1\n",
      "8        didn corner      1\n",
      "9     didn doubtless      1\n"
     ]
    }
   ],
   "source": [
    "#Printing the top 10 words with high frequency in positive and negative reviews\n",
    "\n",
    "topkTotal = get_topk_ngram(hotelDf, k=500)\n",
    "topkTotal_bigram = get_topk_ngram(hotelDf, ngram_range=(2,2), k=500)\n",
    "topkPos = get_topk_ngram(hotelDf.loc[df['Review_Rating']==5], \n",
    "                         ngram_range=(1,1), k=10, with_count=True)\n",
    "topkNeg = get_topk_ngram(hotelDf.loc[hotelDf['Review_Rating']==1], \n",
    "                         ngram_range=(1,1), k=10, with_count=True)\n",
    "topkPos_bigram = get_topk_ngram(hotelDf.loc[hotelDf['Review_Rating']==5], \n",
    "                                ngram_range=(2,2), k=10, with_count=True)\n",
    "topkNeg_bigram = get_topk_ngram(hotelDf.loc[hotelDf['Review_Rating']==1], \n",
    "                                ngram_range=(2,2), k=10, with_count=True)\n",
    "\n",
    "print(\"The most frequently occured top 10 words in positive reviews\")\n",
    "pprint(pd.DataFrame(topkPos, columns=['Word', 'Count']))\n",
    "\n",
    "print(\"\\nThe most frequently occured top 10 words in negative reviews\")\n",
    "pprint(pd.DataFrame(topkNeg, columns=['Word', 'Count']))\n",
    "\n",
    "print(\"\\nThe most frequently occured top 10 bigrams in positive reviews\")\n",
    "pprint(pd.DataFrame(topkPos_bigram, columns=['Word', 'Count']))\n",
    "\n",
    "print(\"\\nThe most frequently occured top 10 bigrams in negative reviews\")\n",
    "pprint(pd.DataFrame(topkNeg_bigram, columns=['Word', 'Count']))"
   ]
  },
  {
   "cell_type": "code",
   "execution_count": 38,
   "metadata": {},
   "outputs": [
    {
     "name": "stdout",
     "output_type": "stream",
     "text": [
      "The most frequently occured top 10 words in neutral reviews\n",
      "            Word  Count\n",
      "0                   857\n",
      "1           didn     40\n",
      "2        atlanta     31\n",
      "3           wasn     15\n",
      "4            don     14\n",
      "5             tv      9\n",
      "6             00      9\n",
      "7         couldn      9\n",
      "8         friday      8\n",
      "9  disappointing      6\n"
     ]
    }
   ],
   "source": [
    "topkNeu= get_topk_ngram(hotelDf.loc[hotelDf['Review_Rating']==3], \n",
    "                                 ngram_range=(0,20), k=10, with_count=True)\n",
    "\n",
    "print(\"The most frequently occured top 10 words in neutral reviews\")\n",
    "pprint(pd.DataFrame(topkNeu, columns=['Word', 'Count']))\n"
   ]
  },
  {
   "cell_type": "code",
   "execution_count": 28,
   "metadata": {},
   "outputs": [],
   "source": [
    "\"\"\"\n",
    "Initialize 4 lists\n",
    "vader_score: Contains compound score for each Review adjusted for #of sentences\n",
    "pos_freq: contains the ratios of positive compound scores in each review\n",
    "neg_freq: contains the ratios of negative compound scores in each review\n",
    "neut_freq: contains the ratios of neutral compound scores in each review\n",
    "\n",
    "Where pos,neg, and neut variables are defined by an equal division of the range: [-1,1]\n",
    "We will append all scores to be the same order as the Review list \n",
    "\"\"\"\n",
    "\n",
    "vader_score = []\n",
    "pos_freq = []\n",
    "neg_freq = []\n",
    "neut_freq = []\n",
    "for i in range(0,len(df.Review)):\n",
    "    sentence_list=tokenize.sent_tokenize(df.Review[i])\n",
    "    paragraphSentiments = 0.0\n",
    "    pos = 0\n",
    "    neg = 0\n",
    "    neut = 0\n",
    "    for sentence in sentence_list:\n",
    "        vs = analyzer.polarity_scores(sentence)\n",
    "        paragraphSentiments +=vs[\"compound\"]\n",
    "        if vs[\"compound\"] < -.33333:\n",
    "            neg += 1\n",
    "        elif vs[\"compound\"] >.33333:\n",
    "            pos += 1\n",
    "        else:\n",
    "            neut +=1\n",
    "    vader_score.append(paragraphSentiments/len(sentence_list))\n",
    "    pos_freq.append(pos/len(sentence_list))\n",
    "    neg_freq.append(neg/len(sentence_list))\n",
    "    neut_freq.append(neut/len(sentence_list))"
   ]
  },
  {
   "cell_type": "code",
   "execution_count": null,
   "metadata": {},
   "outputs": [],
   "source": []
  },
  {
   "cell_type": "code",
   "execution_count": 29,
   "metadata": {},
   "outputs": [
    {
     "data": {
      "text/html": [
       "<div>\n",
       "<style scoped>\n",
       "    .dataframe tbody tr th:only-of-type {\n",
       "        vertical-align: middle;\n",
       "    }\n",
       "\n",
       "    .dataframe tbody tr th {\n",
       "        vertical-align: top;\n",
       "    }\n",
       "\n",
       "    .dataframe thead th {\n",
       "        text-align: right;\n",
       "    }\n",
       "</style>\n",
       "<table border=\"1\" class=\"dataframe\">\n",
       "  <thead>\n",
       "    <tr style=\"text-align: right;\">\n",
       "      <th></th>\n",
       "      <th>Review</th>\n",
       "      <th>Vader_Score</th>\n",
       "      <th>pos_freq</th>\n",
       "      <th>neg_freq</th>\n",
       "      <th>neut_freq</th>\n",
       "    </tr>\n",
       "  </thead>\n",
       "  <tbody>\n",
       "    <tr>\n",
       "      <th>0</th>\n",
       "      <td>We have spent a couple of weeks touring round ...</td>\n",
       "      <td>0.8885</td>\n",
       "      <td>1</td>\n",
       "      <td>0</td>\n",
       "      <td>0</td>\n",
       "    </tr>\n",
       "    <tr>\n",
       "      <th>1</th>\n",
       "      <td>In town for Ed Sheeran concert. Room very good...</td>\n",
       "      <td>0.372075</td>\n",
       "      <td>0.5</td>\n",
       "      <td>0</td>\n",
       "      <td>0.5</td>\n",
       "    </tr>\n",
       "    <tr>\n",
       "      <th>2</th>\n",
       "      <td>Our room was large and clean with an excellent...</td>\n",
       "      <td>0.38958</td>\n",
       "      <td>0.6</td>\n",
       "      <td>0</td>\n",
       "      <td>0.4</td>\n",
       "    </tr>\n",
       "    <tr>\n",
       "      <th>3</th>\n",
       "      <td>The hotel is located in a very busy street of ...</td>\n",
       "      <td>0.208813</td>\n",
       "      <td>0.4</td>\n",
       "      <td>0.0666667</td>\n",
       "      <td>0.533333</td>\n",
       "    </tr>\n",
       "    <tr>\n",
       "      <th>4</th>\n",
       "      <td>Wingate is great for several reasons. I partic...</td>\n",
       "      <td>0.433878</td>\n",
       "      <td>0.777778</td>\n",
       "      <td>0.111111</td>\n",
       "      <td>0.111111</td>\n",
       "    </tr>\n",
       "  </tbody>\n",
       "</table>\n",
       "</div>"
      ],
      "text/plain": [
       "                                              Review Vader_Score  pos_freq  \\\n",
       "0  We have spent a couple of weeks touring round ...      0.8885         1   \n",
       "1  In town for Ed Sheeran concert. Room very good...    0.372075       0.5   \n",
       "2  Our room was large and clean with an excellent...     0.38958       0.6   \n",
       "3  The hotel is located in a very busy street of ...    0.208813       0.4   \n",
       "4  Wingate is great for several reasons. I partic...    0.433878  0.777778   \n",
       "\n",
       "    neg_freq neut_freq  \n",
       "0          0         0  \n",
       "1          0       0.5  \n",
       "2          0       0.4  \n",
       "3  0.0666667  0.533333  \n",
       "4   0.111111  0.111111  "
      ]
     },
     "execution_count": 29,
     "metadata": {},
     "output_type": "execute_result"
    }
   ],
   "source": [
    "\"\"\"\n",
    "Since all 4 lists are in the same order, we are able to stack them\n",
    "into columns of a new dataframe called dfVader\n",
    "\"\"\"\n",
    "\n",
    "dfVader = pd.DataFrame(np.column_stack([df.Review,vader_score,pos_freq,neg_freq,neut_freq]),\n",
    "                       columns=[\"Review\",\"Vader_Score\",\"pos_freq\",\"neg_freq\",\"neut_freq\"])\n",
    "dfVader.head()"
   ]
  },
  {
   "cell_type": "code",
   "execution_count": 30,
   "metadata": {},
   "outputs": [
    {
     "data": {
      "text/plain": [
       "(array([  1.,   1.,   1.,   0.,   0.,   2.,   1.,   0.,   2.,   3.,   2.,\n",
       "          5.,   2.,   7.,   3.,  13.,  15.,  20.,  15.,  28.,  25.,  44.,\n",
       "         35.,  45.,  48.,  70.,  96.,  90., 114., 126., 136., 180., 166.,\n",
       "        158., 166., 140., 117., 109., 102.,  73.,  71.,  58.,  30.,  23.,\n",
       "         21.,  15.,  12.,  12.,  20.,   7.]),\n",
       " array([-0.6486 , -0.61572, -0.58284, -0.54996, -0.51708, -0.4842 ,\n",
       "        -0.45132, -0.41844, -0.38556, -0.35268, -0.3198 , -0.28692,\n",
       "        -0.25404, -0.22116, -0.18828, -0.1554 , -0.12252, -0.08964,\n",
       "        -0.05676, -0.02388,  0.009  ,  0.04188,  0.07476,  0.10764,\n",
       "         0.14052,  0.1734 ,  0.20628,  0.23916,  0.27204,  0.30492,\n",
       "         0.3378 ,  0.37068,  0.40356,  0.43644,  0.46932,  0.5022 ,\n",
       "         0.53508,  0.56796,  0.60084,  0.63372,  0.6666 ,  0.69948,\n",
       "         0.73236,  0.76524,  0.79812,  0.831  ,  0.86388,  0.89676,\n",
       "         0.92964,  0.96252,  0.9954 ]),\n",
       " <a list of 50 Patch objects>)"
      ]
     },
     "execution_count": 30,
     "metadata": {},
     "output_type": "execute_result"
    },
    {
     "data": {
      "image/png": "[encoded data removed]",
      "text/plain": [
       "<Figure size 432x288 with 1 Axes>"
      ]
     },
     "metadata": {},
     "output_type": "display_data"
    }
   ],
   "source": [
    "#Distribution of all vader_scores that we collected\n",
    "plt.hist(vader_score, bins = 50)"
   ]
  },
  {
   "cell_type": "code",
   "execution_count": 31,
   "metadata": {},
   "outputs": [],
   "source": [
    "#converting each score to float\n",
    "dfVader['Vader_Score']=dfVader['Vader_Score'].astype(float)\n",
    "dfVader['pos_freq']=dfVader['pos_freq'].astype(float)\n",
    "dfVader['neg_freq']=dfVader['neg_freq'].astype(float)\n",
    "dfVader['neut_freq']=dfVader['neut_freq'].astype(float)"
   ]
  },
  {
   "cell_type": "code",
   "execution_count": 32,
   "metadata": {},
   "outputs": [
    {
     "data": {
      "text/html": [
       "<div>\n",
       "<style scoped>\n",
       "    .dataframe tbody tr th:only-of-type {\n",
       "        vertical-align: middle;\n",
       "    }\n",
       "\n",
       "    .dataframe tbody tr th {\n",
       "        vertical-align: top;\n",
       "    }\n",
       "\n",
       "    .dataframe thead th {\n",
       "        text-align: right;\n",
       "    }\n",
       "</style>\n",
       "<table border=\"1\" class=\"dataframe\">\n",
       "  <thead>\n",
       "    <tr style=\"text-align: right;\">\n",
       "      <th></th>\n",
       "      <th>Review</th>\n",
       "      <th>Vader_Score</th>\n",
       "      <th>pos_freq</th>\n",
       "      <th>neg_freq</th>\n",
       "      <th>neut_freq</th>\n",
       "    </tr>\n",
       "  </thead>\n",
       "  <tbody>\n",
       "    <tr>\n",
       "      <th>0</th>\n",
       "      <td>We have spent a couple of weeks touring round ...</td>\n",
       "      <td>0.888500</td>\n",
       "      <td>1.000000</td>\n",
       "      <td>0.000000</td>\n",
       "      <td>0.000000</td>\n",
       "    </tr>\n",
       "    <tr>\n",
       "      <th>1</th>\n",
       "      <td>In town for Ed Sheeran concert. Room very good...</td>\n",
       "      <td>0.372075</td>\n",
       "      <td>0.500000</td>\n",
       "      <td>0.000000</td>\n",
       "      <td>0.500000</td>\n",
       "    </tr>\n",
       "    <tr>\n",
       "      <th>2</th>\n",
       "      <td>Our room was large and clean with an excellent...</td>\n",
       "      <td>0.389580</td>\n",
       "      <td>0.600000</td>\n",
       "      <td>0.000000</td>\n",
       "      <td>0.400000</td>\n",
       "    </tr>\n",
       "    <tr>\n",
       "      <th>3</th>\n",
       "      <td>The hotel is located in a very busy street of ...</td>\n",
       "      <td>0.208813</td>\n",
       "      <td>0.400000</td>\n",
       "      <td>0.066667</td>\n",
       "      <td>0.533333</td>\n",
       "    </tr>\n",
       "    <tr>\n",
       "      <th>4</th>\n",
       "      <td>Wingate is great for several reasons. I partic...</td>\n",
       "      <td>0.433878</td>\n",
       "      <td>0.777778</td>\n",
       "      <td>0.111111</td>\n",
       "      <td>0.111111</td>\n",
       "    </tr>\n",
       "  </tbody>\n",
       "</table>\n",
       "</div>"
      ],
      "text/plain": [
       "                                              Review  Vader_Score  pos_freq  \\\n",
       "0  We have spent a couple of weeks touring round ...     0.888500  1.000000   \n",
       "1  In town for Ed Sheeran concert. Room very good...     0.372075  0.500000   \n",
       "2  Our room was large and clean with an excellent...     0.389580  0.600000   \n",
       "3  The hotel is located in a very busy street of ...     0.208813  0.400000   \n",
       "4  Wingate is great for several reasons. I partic...     0.433878  0.777778   \n",
       "\n",
       "   neg_freq  neut_freq  \n",
       "0  0.000000   0.000000  \n",
       "1  0.000000   0.500000  \n",
       "2  0.000000   0.400000  \n",
       "3  0.066667   0.533333  \n",
       "4  0.111111   0.111111  "
      ]
     },
     "execution_count": 32,
     "metadata": {},
     "output_type": "execute_result"
    }
   ],
   "source": [
    "dfVader.head(5)\n",
    "#dfVader[(dfVader['Vader_Score'] < 0) &(dfVader['pos_freq'] > 0)]"
   ]
  },
  {
   "cell_type": "code",
   "execution_count": 33,
   "metadata": {},
   "outputs": [
    {
     "data": {
      "image/png": "[encoded data removed]",
      "text/plain": [
       "<Figure size 432x288 with 1 Axes>"
      ]
     },
     "metadata": {},
     "output_type": "display_data"
    }
   ],
   "source": [
    "# Plotting the actual ratings verses the vader score\n",
    "plt.xlabel('Review Rating')\n",
    "hotelDf['Review_Rating'].plot(kind='hist', title='Histogram - Review Rating',\n",
    "                            bins=np.arange(1,7)-0.5)\n",
    "plt.show()"
   ]
  },
  {
   "cell_type": "code",
   "execution_count": 34,
   "metadata": {},
   "outputs": [
    {
     "data": {
      "image/png": "[encoded data removed]",
      "text/plain": [
       "<Figure size 432x288 with 1 Axes>"
      ]
     },
     "metadata": {},
     "output_type": "display_data"
    }
   ],
   "source": [
    "# Plotting the histogram for Vader Scores\n",
    "plt.xlabel('Vader Score')\n",
    "hotelDf['Vader_Score'].plot(kind='hist', title='Histogram - Vader Scores',\n",
    "                            bins=np.arange(-1,1,0.2))\n",
    "plt.show()"
   ]
  },
  {
   "cell_type": "code",
   "execution_count": 23,
   "metadata": {},
   "outputs": [
    {
     "name": "stderr",
     "output_type": "stream",
     "text": [
      "/Users/brettevans/anaconda3/lib/python3.6/site-packages/ipykernel_launcher.py:5: FutureWarning: Method .as_matrix will be removed in a future version. Use .values instead.\n",
      "  \"\"\"\n",
      "/Users/brettevans/anaconda3/lib/python3.6/site-packages/ipykernel_launcher.py:6: FutureWarning: Method .as_matrix will be removed in a future version. Use .values instead.\n",
      "  \n"
     ]
    },
    {
     "data": {
      "image/png": "[encoded data removed]",
      "text/plain": [
       "<Figure size 432x288 with 1 Axes>"
      ]
     },
     "metadata": {},
     "output_type": "display_data"
    }
   ],
   "source": [
    "'''\n",
    "Overlayed Histogram for Review rating and Vader score\n",
    "Just for demonstrating, I am dividing the rating score by 5\n",
    "'''\n",
    "x = [hotelDf['Review_Rating'].as_matrix() / 5]\n",
    "y = [(hotelDf['Vader_Score'].as_matrix() + 1 )/ 2]\n",
    "bins = np.linspace(0, 1, 100)\n",
    "plt.hist(x, bins, label='Rescaled Review Ratings')\n",
    "plt.hist(y, bins, label='Rescaled Vader Scores')\n",
    "plt.title('Histogram - Rescaled')\n",
    "plt.xlabel('Score')\n",
    "plt.ylabel('Frequency')\n",
    "plt.legend(loc='upper left')\n",
    "plt.show()"
   ]
  },
  {
   "cell_type": "code",
   "execution_count": 32,
   "metadata": {},
   "outputs": [
    {
     "ename": "NameError",
     "evalue": "name 'DataFrame' is not defined",
     "output_type": "error",
     "traceback": [
      "\u001b[0;31m---------------------------------------------------------------------------\u001b[0m",
      "\u001b[0;31mNameError\u001b[0m                                 Traceback (most recent call last)",
      "\u001b[0;32m<ipython-input-32-5309a823f31d>\u001b[0m in \u001b[0;36m<module>\u001b[0;34m()\u001b[0m\n\u001b[0;32m----> 1\u001b[0;31m \u001b[0mDataFrame\u001b[0m\u001b[0;34m.\u001b[0m\u001b[0mshape\u001b[0m\u001b[0;34m(\u001b[0m\u001b[0;34m'hotelDf'\u001b[0m\u001b[0;34m)\u001b[0m\u001b[0;34m\u001b[0m\u001b[0m\n\u001b[0m",
      "\u001b[0;31mNameError\u001b[0m: name 'DataFrame' is not defined"
     ]
    }
   ],
   "source": [
    "DataFrame.shape('hotelDf')"
   ]
  },
  {
   "cell_type": "code",
   "execution_count": null,
   "metadata": {},
   "outputs": [],
   "source": []
  }
 ],
 "metadata": {
  "kernelspec": {
   "display_name": "Python 3",
   "language": "python",
   "name": "python3"
  },
  "language_info": {
   "codemirror_mode": {
    "name": "ipython",
    "version": 3
   },
   "file_extension": ".py",
   "mimetype": "text/x-python",
   "name": "python",
   "nbconvert_exporter": "python",
   "pygments_lexer": "ipython3",
   "version": "3.6.5"
  }
 },
 "nbformat": 4,
 "nbformat_minor": 2
}
